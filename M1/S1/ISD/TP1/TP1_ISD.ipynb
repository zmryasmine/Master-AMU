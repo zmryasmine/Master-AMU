{
 "cells": [
  {
   "cell_type": "markdown",
   "metadata": {
    "id": "7HDpECWMH0tB"
   },
   "source": [
    "# Introduction à la Science de Données M1 Informatique AMU 2023/24\n",
    "# TP1 - Prise en main de python, pandas, et de Scikit-Learn\n",
    "\n",
    "## 1. Python (seulement pour celles et ceux ne connaissant pas python)\n",
    "\n",
    "Python est un langage de programmation simple, qui peut être interprété dans un shell (terminal) ou via une interface comme celle-ci (on peut même éventuellement compiler du code python). Le plus souvent, nous allons travailler avec des Jupyter Notebook comme celui-ci dans ce cours. Le principe est le suivant : il y a des cellules dans lequel on tape du code (ou du texte, comme ici - double-clicker ici pour voir le code de cette cellule). Un fois le code écrit, on lance la cellule avec le bouton \"Exécuter\" (ou \"Run\"), en haut au milieu, et le code s'exécute ! Top, non ? \n",
    "\n",
    "On essaie ? *Exécuter* cette cellule pour lui redonner son apparence initiale si vous avez double-clické dessus, puis exécuter la suivante."
   ]
  },
  {
   "cell_type": "code",
   "execution_count": null,
   "metadata": {
    "id": "-zuNGqREH0tM"
   },
   "outputs": [],
   "source": [
    "print(\"Hello world!\")"
   ]
  },
  {
   "cell_type": "markdown",
   "metadata": {
    "id": "k5pwGwCJH0tg"
   },
   "source": [
    "### Variables et types\n",
    "Vous devez donc avoir compris que *exécuter* une cellule de code affiche le résultat en dessous.\n",
    "\n",
    "On peut écrire du code python comme si on utilisait une calculette (avec des variables). Même si on fera rapidement des choses plus évoluées, on commence par ça (vous pouvez modifier le contenu des cellule et les exécuter autant de fois que vous voulez) :"
   ]
  },
  {
   "cell_type": "code",
   "execution_count": null,
   "metadata": {
    "id": "zWIKwVrKH0tj"
   },
   "outputs": [],
   "source": [
    "2"
   ]
  },
  {
   "cell_type": "code",
   "execution_count": null,
   "metadata": {
    "id": "-Ic0fUiDH0ts"
   },
   "outputs": [],
   "source": [
    "2*2"
   ]
  },
  {
   "cell_type": "code",
   "execution_count": null,
   "metadata": {
    "id": "60MSgLvUH0t2"
   },
   "outputs": [],
   "source": [
    "a = 2"
   ]
  },
  {
   "cell_type": "code",
   "execution_count": null,
   "metadata": {
    "id": "QPLcgb-bH0t8"
   },
   "outputs": [],
   "source": [
    "a*3"
   ]
  },
  {
   "cell_type": "code",
   "execution_count": null,
   "metadata": {
    "id": "R_xhR0ZNH0uB"
   },
   "outputs": [],
   "source": [
    "type(a)"
   ]
  },
  {
   "cell_type": "code",
   "execution_count": null,
   "metadata": {
    "id": "vQEUCdX3H0uH"
   },
   "outputs": [],
   "source": [
    "type(a*0.5)"
   ]
  },
  {
   "cell_type": "code",
   "execution_count": null,
   "metadata": {
    "id": "upv0QMflH0uR"
   },
   "outputs": [],
   "source": [
    "b = a*3"
   ]
  },
  {
   "cell_type": "code",
   "execution_count": null,
   "metadata": {
    "id": "irMp9BEYH0ud"
   },
   "outputs": [],
   "source": [
    "b"
   ]
  },
  {
   "cell_type": "code",
   "execution_count": null,
   "metadata": {
    "id": "TUTZnND_H0up"
   },
   "outputs": [],
   "source": [
    "print(b)"
   ]
  },
  {
   "cell_type": "code",
   "execution_count": null,
   "metadata": {
    "id": "stbBh87OH0uw"
   },
   "outputs": [],
   "source": [
    "c, d = 3, 4\n",
    "b = 4*c\n",
    "print(a, b, c, d, b/4, \"Vous suivez ?\")"
   ]
  },
  {
   "cell_type": "code",
   "execution_count": null,
   "metadata": {
    "id": "hOBBV_QQH0u5"
   },
   "outputs": [],
   "source": [
    "print(\"Avant : \", a)\n",
    "a += 1\n",
    "print(\"Après : \", a)"
   ]
  },
  {
   "cell_type": "code",
   "execution_count": null,
   "metadata": {
    "id": "Cu6afqmFH0vB"
   },
   "outputs": [],
   "source": [
    "print(2+2)\n",
    "print(\"2\"+\"2\")"
   ]
  },
  {
   "cell_type": "code",
   "execution_count": null,
   "metadata": {
    "id": "0d6Dh7LmH0vH"
   },
   "outputs": [],
   "source": [
    "print(2+\"2\")"
   ]
  },
  {
   "cell_type": "markdown",
   "metadata": {
    "id": "d0KS6mhdH0vN"
   },
   "source": [
    "Un type particulier (et central) : les **listes**"
   ]
  },
  {
   "cell_type": "code",
   "execution_count": null,
   "metadata": {
    "id": "HKx5S9dWH0vP"
   },
   "outputs": [],
   "source": [
    "li = [0, 1, 2]    # Definition d'une liste en extension\n",
    "\n",
    "print(type(li))\n",
    "print(len(li))\n",
    "print(li[0])\n",
    "\n",
    "print(\"Plus technique :\")\n",
    "print(li[-1])  # En partant de la fin\n",
    "print(li[:2])  # Un morceau contenant le début jusqu'à l'élément indexé par 2 NON inclus\n",
    "print(li[1:])  # Un morceau contenant la fin à partir de l'élément indexé par 1 inclus"
   ]
  },
  {
   "cell_type": "code",
   "execution_count": null,
   "metadata": {
    "id": "VzoIFKBkH0vU"
   },
   "outputs": [],
   "source": [
    "print(li)\n",
    "li[0] = 42\n",
    "li.append(\"éléments de différent types\")\n",
    "print(li)"
   ]
  },
  {
   "cell_type": "markdown",
   "metadata": {
    "id": "r9cAzqLMH0ve"
   },
   "source": [
    "### Structures de controle\n",
    "Comme tout langage de programmation, on peut utiliser des structures de controle en python, comme des boucles ou des conditionnelles. Et comme les autres langages, cela fonctionne par blocs : qu'est-ce qui s'exécute si le *if* est vrai ? Qu'est-ce qui s'exécute de toute façon ? Qu'est-ce qui est dans la boucle ? etc.\n",
    "\n",
    "La plupart des langages de programmation que vous connaissez matérialisent les blocs par des caractères spéciaux, souvent une accolade *{* pour le commencer et une autre *}* pour le fermer. Ce n'est pas le cas de python : ce langage matérialise les blocs graphiquement, par des espaces. Il faut 4 espaces pour marquer un bloc:"
   ]
  },
  {
   "cell_type": "code",
   "execution_count": null,
   "metadata": {
    "id": "Apuv2F5DH0vi"
   },
   "outputs": [],
   "source": [
    "print(\"On n'est pas dans le if\")     # Ceci est un commentaire\n",
    "if True:\n",
    "    print(\"On est dans le if\")\n",
    "    print(\"Là encore\")\n",
    "print(\"Là on n'y est plus\")"
   ]
  },
  {
   "cell_type": "markdown",
   "metadata": {
    "id": "Jh7HcIYpH0vp"
   },
   "source": [
    "Et c'est pareil pour les boucles:"
   ]
  },
  {
   "cell_type": "code",
   "execution_count": null,
   "metadata": {
    "id": "ws6gZyCrH0vq"
   },
   "outputs": [],
   "source": [
    "print(\"Avant la boucle\")\n",
    "for i in range(0, 11):\n",
    "    print(\"Tour de boucle numéro\", i)\n",
    "print(\"Après la boucle\")"
   ]
  },
  {
   "cell_type": "markdown",
   "metadata": {
    "id": "vX6wRT3jH0v2"
   },
   "source": [
    "##### Boucle et liste\n",
    "On peut remplir des listes avec des boucles:"
   ]
  },
  {
   "cell_type": "code",
   "execution_count": null,
   "metadata": {
    "id": "xMuf3fqjH0v3"
   },
   "outputs": [],
   "source": [
    "li = []\n",
    "for i in range(10):\n",
    "    li.append(i)\n",
    "print(li)"
   ]
  },
  {
   "cell_type": "markdown",
   "metadata": {
    "id": "FEob5PvDH0v-"
   },
   "source": [
    "(Mais en fait on n'a même pas besoin de boucle explicite !!!!!) :"
   ]
  },
  {
   "cell_type": "code",
   "execution_count": null,
   "metadata": {
    "id": "iFf_JCXUH0wC"
   },
   "outputs": [],
   "source": [
    "li = [i*2 for i in range(10)]\n",
    "print(li)"
   ]
  },
  {
   "cell_type": "markdown",
   "metadata": {
    "id": "UwxQAlndH0wL"
   },
   "source": [
    "##### Combinaison\n",
    "Bien entendu, c'est récursif : on peut mettre des blocs dans des blocs qui contiennent des blocks, etc.\n",
    "\n",
    "**Question** Alors, que fait le code ci-dessous ? Que valent a et b à la fin ? "
   ]
  },
  {
   "cell_type": "code",
   "execution_count": null,
   "metadata": {
    "id": "fHOiyJpwH0wN"
   },
   "outputs": [],
   "source": [
    "a, b = 0, 0\n",
    "for i in range(10):\n",
    "    if a % 2 == 0:\n",
    "        a+=i\n",
    "        if b < 5:\n",
    "            a-=i\n",
    "        else:\n",
    "            b+=i\n",
    "    else:\n",
    "        b-=i"
   ]
  },
  {
   "cell_type": "markdown",
   "metadata": {
    "id": "fW4gf7YnH0wY"
   },
   "source": [
    "#### A vous !\n",
    "**Question** Insérez 1 cellule ci-dessous (cliquez ici puis utilisez le menu du haut...). Puis écrivez y le code qui calcule et affiche la somme des 10 premiers entiers au carré."
   ]
  },
  {
   "cell_type": "markdown",
   "metadata": {
    "id": "Db5MLZ_TH0wZ"
   },
   "source": [
    "**Question** Dans la cellule suivante, écrire un code comprenant 1 boucle et 1 conditionelle qui tire un nombre au hasard entre 1 et 100 et qui laisse 10 chances à l'utilisateur pour trouver ce nombre. On utilisera une bibliothèque (on dit *module* en python) qui génère des nombres aléatoires en l'important:"
   ]
  },
  {
   "cell_type": "code",
   "execution_count": null,
   "metadata": {
    "id": "wi2Qfar_H0wa"
   },
   "outputs": [],
   "source": [
    "import random   # On importe la librairie\n",
    "a_trouver = random.randint(0,100)    # On on génère alétoirement un nombre\n",
    "mon_nombre = int(input(\"Entrer un nombre: \")) # On demande à rentrer un nombre\n",
    "\n",
    "print(a_trouver, mon_nombre)\n",
    "# A vous de jouer !"
   ]
  },
  {
   "cell_type": "markdown",
   "metadata": {
    "id": "QQ5qhjrkH0wi"
   },
   "source": [
    "### Fonctions\n",
    "Bien entendu, il est possible de définir et d'utiliser des fonctions en python:"
   ]
  },
  {
   "cell_type": "code",
   "execution_count": null,
   "metadata": {
    "id": "jLKlsxU9H0wj"
   },
   "outputs": [],
   "source": [
    "def carre(x):\n",
    "    return x*x"
   ]
  },
  {
   "cell_type": "code",
   "execution_count": null,
   "metadata": {
    "id": "K7BKTsPvH0wr"
   },
   "outputs": [],
   "source": [
    "carre(2)"
   ]
  },
  {
   "cell_type": "markdown",
   "metadata": {
    "id": "6irEAB32H0wv"
   },
   "source": [
    "Et on peut même renvoyer plusieurs valeurs:"
   ]
  },
  {
   "cell_type": "code",
   "execution_count": null,
   "metadata": {
    "id": "Fu0XSRNzH0wx"
   },
   "outputs": [],
   "source": [
    "def trois_suivants(x):\n",
    "    return (x+1, x+2, x+3)\n",
    "S = trois_suivants(5)\n",
    "print(S)\n",
    "print(S[1])"
   ]
  },
  {
   "cell_type": "markdown",
   "metadata": {
    "id": "09xb5GHBH0w6"
   },
   "source": [
    "Attention, un tuple (comme le triplet que retourne cette fonction) n'est pas mutable: il contient une ou des valeurs qui ne sont pas modifiables. "
   ]
  },
  {
   "cell_type": "code",
   "execution_count": null,
   "metadata": {
    "id": "UftmCrHPH0w7"
   },
   "outputs": [],
   "source": [
    "S[1]=3   # Ceci va donc donner un erreur !"
   ]
  },
  {
   "cell_type": "markdown",
   "metadata": {
    "id": "7W_gAjnNH0xG"
   },
   "source": [
    "Si vous voulez modifier les valeurs, il faut faire une liste:"
   ]
  },
  {
   "cell_type": "code",
   "execution_count": null,
   "metadata": {
    "id": "bIhbEqbvH0xH"
   },
   "outputs": [],
   "source": [
    "L = list(S)\n",
    "print(L)\n",
    "L[1] = 3\n",
    "print(L)\n",
    "print(S)"
   ]
  },
  {
   "cell_type": "markdown",
   "metadata": {
    "id": "BOesqxEpH0xK"
   },
   "source": [
    "Ou alors, vous récuperez les valeurs de la fonction dans des variables séparées :"
   ]
  },
  {
   "cell_type": "code",
   "execution_count": null,
   "metadata": {
    "id": "6NRZCj-5H0xL"
   },
   "outputs": [],
   "source": [
    "x_1, x_2, x_3 = trois_suivants(42)\n",
    "print(x_1, x_2, x_3)\n",
    "x_1 = 24\n",
    "print(x_1)"
   ]
  },
  {
   "cell_type": "markdown",
   "metadata": {
    "id": "FMjdW9AqH0xN"
   },
   "source": [
    "## 2. Scikit-Learn\n",
    "Scikit-learn est un logiciel écrit en Python, qui nécessite l'installation préalable du langage  Python et des librairies  *NumPy* et  *SciPy* (pour le calcul scientifique), dans des versions qui doivent vérifier certaines contraintes de compatibilité. Sur votre machine personnelle, le plus simple est d'installer une distribution de Python complète, comme Anaconda (https://docs.anaconda.com/anaconda/install/), qui comprend la plupart des librairies courantes développées en Python, dont les trois citées plus haut. Sur les PC de la salle, tout est normalement installé...\n",
    "\n",
    "Le site officiel du logiciel  Scikit-learn est :  http://scikit-learn.org/stable/index.html \n",
    "\n",
    "La documentation en ligne est complète, et devra être consultée chaque fois que nécessaire :\n",
    " \thttp://scikit-learn.org/stable/documentation.html \n",
    "    \n",
    "Des tutoriaux sont disponibles a l'adresse suivante :\n",
    " \thttp://scikit-learn.org/stable/tutorial/index.html\n",
    "\n",
    "### Jeux de données en Scikit-Learn\n",
    "\n",
    "Un certain nombre de jeux de données sont disponibles dans scikit-learn. Il est également possible de générer des données artificielles ou de récupérer des données externes (on fera ça dans les prochains TPs).\n",
    "\n",
    "Documentation relative au chargement de jeux de données :\n",
    "\thttp://scikit-learn.org/stable/datasets/ \n",
    "\n",
    "Les jeux de données disponibles dans scikit-learn sont : iris, boston, diabetes, digits, linnerud, sample images, 20newsgroups.\n",
    "Chacun de ces jeux de données se récupère à l'aide de la commande load_nom-jeu qu'il faut dans un premier temps charger. Par exemple, pour récupérer le jeu iris :"
   ]
  },
  {
   "cell_type": "code",
   "execution_count": 2,
   "metadata": {
    "id": "KGE3DxB1H0xO"
   },
   "outputs": [],
   "source": [
    "from sklearn.datasets import load_iris  #importation de la commande\n",
    "irisData = load_iris()"
   ]
  },
  {
   "cell_type": "markdown",
   "metadata": {
    "id": "qhM6j0I2H0xQ"
   },
   "source": [
    "On se retrouve alors avec une variable qui contient le jeu de données (ici on l'a appelé *irisData*)\n",
    "\n",
    "Les variables des jeux de données comprennent un certain nombres d'attributs parmi (tous ne sont pas toujours définis) : data, target, target_names, feature_names, DESCR :\n",
    "- *.data* est un tableau de dimensions *(n,m)*. Chacune des *n* lignes correspond à une donnée, chacune des *m* colonnes à un attribut \n",
    "- *.target* stocke les classes (étiquettes/label) de chaque instance (dans le cas supervisé) : c'est un vecteur de taille *n* dont la première valeur est la classe de la donnée de la première ligne de la matrice .data, la deuxième valeur est la classe de la deuxième ligne, etc.\n",
    "- *.target_names* contient le nom des classes\n",
    "- *.feature_names* contient le nom des attributs\n",
    "- *.DESCR* est un texte décrivant le jeu de données."
   ]
  },
  {
   "cell_type": "code",
   "execution_count": null,
   "metadata": {
    "id": "TdZWSqHiH0xT"
   },
   "outputs": [],
   "source": [
    "irisData.data"
   ]
  },
  {
   "cell_type": "code",
   "execution_count": null,
   "metadata": {
    "id": "OXkitLY6H0xU"
   },
   "outputs": [],
   "source": [
    "irisData.target"
   ]
  },
  {
   "cell_type": "code",
   "execution_count": null,
   "metadata": {
    "id": "ZwU_r-XwH0xZ"
   },
   "outputs": [],
   "source": [
    "irisData.target_names"
   ]
  },
  {
   "cell_type": "markdown",
   "metadata": {
    "id": "G0IU_jmpH0xc"
   },
   "source": [
    "Noter que le type de tous ces éléments est *array*, un type très utile et central en python pour nous (en fait, le vrai type est s'appelle *ndarray* qui est un type propre à numpy : faites type(irisData.target) par exemple pour vous en assurer : il ne faut pas toujours croire ce que le notebook affiche !)"
   ]
  },
  {
   "cell_type": "markdown",
   "metadata": {
    "id": "Safe4zN-H0xd"
   },
   "source": [
    "##### Le jeu de données Iris (Fisher, 1936)\n",
    "Iris est un ensemble (=jeu) de données introduit en 1936 par R. Fisher comme un exemple d'analyse discriminante. Cet ensemble contient 150 exemples de critères observés sur 3 espèces différentes d'iris de Gaspésie (Setosa, Versicolor, Verginica). Chaque exemple est composé de quatre attributs (longueur et largeur des sépales en cm, longueur et largeur des pétales en cm) et d'une classe (l'espèce).\n",
    "\n",
    "**Question.** Exécutez **une à une** les commandes suivantes et comprenez ce qu'elles réalisent (vous aurez à les réutiliser)."
   ]
  },
  {
   "cell_type": "code",
   "execution_count": 3,
   "metadata": {
    "id": "FHIaHRZKH0xi"
   },
   "outputs": [
    {
     "ename": "IndexError",
     "evalue": "index 3 is out of bounds for axis 0 with size 3",
     "output_type": "error",
     "traceback": [
      "\u001b[0;31m---------------------------------------------------------------------------\u001b[0m",
      "\u001b[0;31mIndexError\u001b[0m                                Traceback (most recent call last)",
      "\u001b[0;32m<ipython-input-3-4beef82dbfc7>\u001b[0m in \u001b[0;36m<module>\u001b[0;34m\u001b[0m\n\u001b[1;32m      3\u001b[0m \u001b[0mirisData\u001b[0m\u001b[0;34m.\u001b[0m\u001b[0mtarget_names\u001b[0m\u001b[0;34m[\u001b[0m\u001b[0;36m2\u001b[0m\u001b[0;34m]\u001b[0m\u001b[0;34m\u001b[0m\u001b[0;34m\u001b[0m\u001b[0m\n\u001b[1;32m      4\u001b[0m \u001b[0mirisData\u001b[0m\u001b[0;34m.\u001b[0m\u001b[0mtarget_names\u001b[0m\u001b[0;34m[\u001b[0m\u001b[0;34m-\u001b[0m\u001b[0;36m1\u001b[0m\u001b[0;34m]\u001b[0m\u001b[0;34m\u001b[0m\u001b[0;34m\u001b[0m\u001b[0m\n\u001b[0;32m----> 5\u001b[0;31m \u001b[0mirisData\u001b[0m\u001b[0;34m.\u001b[0m\u001b[0mtarget_names\u001b[0m\u001b[0;34m[\u001b[0m\u001b[0mlen\u001b[0m\u001b[0;34m(\u001b[0m\u001b[0mirisData\u001b[0m\u001b[0;34m.\u001b[0m\u001b[0mtarget_names\u001b[0m\u001b[0;34m)\u001b[0m\u001b[0;34m]\u001b[0m\u001b[0;34m\u001b[0m\u001b[0;34m\u001b[0m\u001b[0m\n\u001b[0m\u001b[1;32m      6\u001b[0m \u001b[0mirisData\u001b[0m\u001b[0;34m.\u001b[0m\u001b[0mdata\u001b[0m\u001b[0;34m.\u001b[0m\u001b[0mshape\u001b[0m\u001b[0;34m\u001b[0m\u001b[0;34m\u001b[0m\u001b[0m\n\u001b[1;32m      7\u001b[0m \u001b[0mirisData\u001b[0m\u001b[0;34m.\u001b[0m\u001b[0mdata\u001b[0m\u001b[0;34m[\u001b[0m\u001b[0;36m0\u001b[0m\u001b[0;34m]\u001b[0m\u001b[0;34m\u001b[0m\u001b[0;34m\u001b[0m\u001b[0m\n",
      "\u001b[0;31mIndexError\u001b[0m: index 3 is out of bounds for axis 0 with size 3"
     ]
    }
   ],
   "source": [
    "len(irisData.data)\n",
    "irisData.target_names[0]\n",
    "irisData.target_names[2]\n",
    "irisData.target_names[-1]\n",
    "irisData.target_names[len(irisData.target_names)]\n",
    "irisData.data.shape\n",
    "irisData.data[0]\n",
    "irisData.data[0][1]\n",
    "irisData.data[:,1]    # Celle-ci, il faut vraiment la comprendre !\n",
    "irisData.data[irisData.target==0]    # Et celle-ci aussi !!!\n",
    "irisData.data[:][1]  # pourquoi n'a-t-on pas le même résultat qu'avec [:,1] ?"
   ]
  },
  {
   "cell_type": "markdown",
   "metadata": {
    "id": "0yI3SusIH0xn"
   },
   "source": [
    "Vous avez eu une erreur ? Pourquoi ? Refléchissez...\n",
    "\n",
    "Et assurez vous de tester toutes les lignes, quite à créer de nouvelles cellules (ou à mettre en commentaire les lignes déjà testées, ou qui génèrent des erreurs)"
   ]
  },
  {
   "cell_type": "markdown",
   "metadata": {
    "id": "SEFjsCJUH0xo"
   },
   "source": [
    "##### Visualiser les données\n",
    "Scikit-Learn  intègre la librairie matplotlib  (http://matplotlib.org/) qui propose de très nombreuses primitives permettant de faire des dessins, et la librairie pylab, qui intègre les librairies NumPy, SciPy  et Matplotlib .\n",
    "\n",
    "Exécutez les commandes suivantes et comprenez ce qu'elles réalisent :"
   ]
  },
  {
   "cell_type": "code",
   "execution_count": 4,
   "metadata": {
    "id": "6DGx0G1SH0xq"
   },
   "outputs": [
    {
     "data": {
      "image/png": "[encoded data removed]",
      "text/plain": [
       "<Figure size 432x288 with 1 Axes>"
      ]
     },
     "metadata": {
      "needs_background": "light"
     },
     "output_type": "display_data"
    }
   ],
   "source": [
    "%matplotlib inline     \n",
    "# Commande uniquement Notebook : permet l'affichage des courbes\n",
    "import matplotlib.pyplot as plt        \n",
    "#permet d'importer 'pyplot' et de remplacer son nom par 'plt'\n",
    "X = irisData.data\n",
    "Color = irisData.target\n",
    "abscisse = 0\n",
    "ordonnee = 1\n",
    "\n",
    "plt.scatter(X[:, abscisse], X[:, ordonnee], c=Color)   \n",
    "# Définition des abscisses et des ordonnées, ainsi que de la couleur\n",
    "plt.show()    \n",
    "# Affichage de la courbe"
   ]
  },
  {
   "cell_type": "markdown",
   "metadata": {
    "id": "knCEqH8DH0x1"
   },
   "source": [
    "C'est bien mais pas super : il manque de l'information pour être un vrai graphique. On améliore :"
   ]
  },
  {
   "cell_type": "code",
   "execution_count": 5,
   "metadata": {
    "id": "MieZPNfeH0x2"
   },
   "outputs": [
    {
     "data": {
      "image/png": "[encoded data removed]",
      "text/plain": [
       "<Figure size 432x288 with 1 Axes>"
      ]
     },
     "metadata": {
      "needs_background": "light"
     },
     "output_type": "display_data"
    }
   ],
   "source": [
    "plt.xlabel(irisData.feature_names[abscisse])    # Nomage de l'axe des abscisses\n",
    "plt.ylabel(irisData.feature_names[ordonnee])    # Nomage de l'axe des ordonnées   \n",
    "plt.title(\"Données Iris - Dimensions des sépales uniquement\") # Et il faut un tritre\n",
    "\n",
    "plt.scatter(X[:, abscisse], X[:, ordonnee], c=Color)   # Redefinition des abscisses, ordonnees, et couleurs\n",
    "plt.show()\n"
   ]
  },
  {
   "cell_type": "markdown",
   "metadata": {
    "id": "LyVDdnW1H0x8"
   },
   "source": [
    "ça commence à ressembler à quelque chose, non ? Reste 2 petits problèmes : il manque la légende pour expliquer le code couleur, et les couleurs ne sont pas très belles (ça c'est une question de goût, mais quand même). Voilà un façon (un peu différente) d'y remédier :"
   ]
  },
  {
   "cell_type": "code",
   "execution_count": 6,
   "metadata": {
    "id": "u-7semNOH0x9"
   },
   "outputs": [
    {
     "data": {
      "image/png": "[encoded data removed]",
      "text/plain": [
       "<Figure size 432x288 with 1 Axes>"
      ]
     },
     "metadata": {
      "needs_background": "light"
     },
     "output_type": "display_data"
    }
   ],
   "source": [
    "y = irisData.target\n",
    "colors=[\"red\",\"green\",\"blue\"]\n",
    "differentes_target = set(irisData.target)    # Enlève les doublons\n",
    "for i in differentes_target:\n",
    "\tplt.scatter(X[y==i][:, abscisse],X[y==i][:,ordonnee],color=colors[i], label=irisData.target_names[i])\n",
    "plt.legend()\n",
    "plt.xlabel(irisData.feature_names[abscisse])\n",
    "plt.ylabel(irisData.feature_names[ordonnee])\n",
    "plt.title(\"Données Iris - dimensions des sépales uniquement\")\n",
    "plt.show()"
   ]
  },
  {
   "cell_type": "markdown",
   "metadata": {
    "id": "PHKRGAP0H0yB"
   },
   "source": [
    "**Question.** Les données iris sont décrites par 4 attributs. Il y a donc 6 couples d'attributs à confronter avec ce type de nuage de points en 2 dimensions. En modifiant le code ci-dessus, déterminez visuellement le(s) couple(s) d'attributs qui semble le mieux à même de séparer clairement les exemples des 3 classes d'iris."
   ]
  },
  {
   "cell_type": "code",
   "execution_count": null,
   "metadata": {
    "id": "nDRnfz_vH0yD"
   },
   "outputs": [],
   "source": [
    "# A vous"
   ]
  },
  {
   "cell_type": "markdown",
   "metadata": {
    "id": "tIRdxF14H0yF"
   },
   "source": [
    "##### Extraire des statistiques des données\n",
    "Un autre type de données est très utile : les dictionnaires. Alors qu'une liste est indexée par des entiers positifs, un dictionnaire peut être indexé par (presque) tout :"
   ]
  },
  {
   "cell_type": "code",
   "execution_count": 7,
   "metadata": {
    "id": "nkHo1lzjH0yH"
   },
   "outputs": [
    {
     "name": "stdout",
     "output_type": "stream",
     "text": [
      "['Ready Player One', 'Magnolia']\n",
      "Les clés :  dict_keys(['film', 'duree', 42])\n",
      "Les valeurs :  dict_values([['Ready Player One', 'Magnolia'], [120, 90], ['et', 'oui']])\n",
      "A la fin :  {'film': ['Ready Player One', 'Magnolia', 'Les valseuses'], 'duree': [120, 90], 42: ['et', 'oui'], 'Annee': 2018}\n"
     ]
    }
   ],
   "source": [
    "d = {}    # Création d'un dictionnaire vide\n",
    "d = {\"film\":[\"Ready Player One\", \"Magnolia\"], \"duree\": [120, 90], 42:[\"et\", \"oui\"] }\n",
    "print(d[\"film\"])\n",
    "print(\"Les clés : \", d.keys())\n",
    "print(\"Les valeurs : \", d.values())\n",
    "d[\"film\"].append(\"Les valseuses\")\n",
    "d[\"Annee\"]=2018\n",
    "print(\"A la fin : \", d)"
   ]
  },
  {
   "cell_type": "markdown",
   "metadata": {
    "id": "uBFz8-O-H0yI"
   },
   "source": [
    "**Question.** En lisant les données une par une, remplir un dictionnaire *dico* dont les clés sont les noms des features dans le jeu de données iris."
   ]
  },
  {
   "cell_type": "code",
   "execution_count": null,
   "metadata": {
    "id": "HJCiePktH0yJ"
   },
   "outputs": [],
   "source": [
    "# A vous"
   ]
  },
  {
   "cell_type": "markdown",
   "metadata": {
    "id": "-cRc9ADcH0yL"
   },
   "source": [
    "**Question.** Ecrire une fonction display_stat qui prend en entrée un dictionnaire avec les clés de la question précédente et renvoie les statistiques 'moyenne', 'valeur max', 'valeur min', et 'déviation standard' pour chacun des 4 attributs. Ces fonctions sont toutes déjà définies dans le module numpy. Le résultat pourra se présenter sous la forme d'un tableau (pas aussi beau, que là-dessous, là c'est du markdown):\n",
    "\n",
    "| Attribut | min | max | moyenne | std |\n",
    "| --- | --- | --- | --- | --- |\n",
    "| sepal_length | 4.30 | 7.90 | 5.84 | 0.83 |\n",
    "| sepal_width | 2.00 |4.40 | 3.06 | 0.43 |\n",
    "| petal_length | 1.00 | 6.90 | 3.76 | 1.76 |\n",
    "| petal_width | 0.10 | 2.50 | 1.20 | 0.76 |"
   ]
  },
  {
   "cell_type": "code",
   "execution_count": 1,
   "metadata": {
    "id": "gq6BaF8UH0yM"
   },
   "outputs": [],
   "source": [
    "import numpy as np\n",
    "# A vous (sans utiliser pandas vu en cours!)"
   ]
  },
  {
   "cell_type": "markdown",
   "metadata": {
    "id": "Klbj_dFtH0yP"
   },
   "source": [
    "**Question optionnelle (pour les curieux des dictionnaires).** (ne pas y passer plus de 15mn, mais à essayer tout de même) Utiliser cette fonction sur les données pour chacune des classes. Pour cela, il pourrait être utile de créer un dictionnaire par classe.\n",
    "\n",
    "Astuce: on peut s'intéresser à la fonction numpy.where(tab=condition), qui retourne un tableau bi-dimensionnel dont le premier item contient les INDICES des éléments de tab qui satisfont la condition. (En réalité, cette fonction permet beaucoup plus de choses, cf. la documentation complète, mais nous n'en avons pas besoin ici.)"
   ]
  },
  {
   "cell_type": "code",
   "execution_count": 2,
   "metadata": {},
   "outputs": [
    {
     "name": "stdout",
     "output_type": "stream",
     "text": [
      "(array([3, 4]),)\n"
     ]
    }
   ],
   "source": [
    "t_in = np.array([3, 7, 8, 9, 10])\n",
    "t_out = np.where(t_in > 8)\n",
    "print(t_out)"
   ]
  },
  {
   "cell_type": "code",
   "execution_count": null,
   "metadata": {
    "id": "8zS6moYdH0yQ"
   },
   "outputs": [],
   "source": [
    "# A vous (moins de 15mn)"
   ]
  },
  {
   "cell_type": "markdown",
   "metadata": {},
   "source": [
    "## 3. Effets de normalisation (rapport à rendre)\n",
    "Le rapport en pdf doit être court (max 2 pages), avec le code en annexe dans un fichier .py. Le raport doit contenir des extraits de graphiques (voire de code si jugé nécessaire), les réponses aux questions et des conclusions qui démontrent que vous avez compris les résultats obtenus.\n",
    "\n",
    "**Question.** Ecrire les instructions python qui permettent de récupérer le jeu de données pommes-bananes (fruits.csv)."
   ]
  },
  {
   "cell_type": "code",
   "execution_count": 2,
   "metadata": {},
   "outputs": [],
   "source": [
    "# a vous"
   ]
  },
  {
   "cell_type": "markdown",
   "metadata": {},
   "source": [
    "**Question.** Pour chaque type de normalisation vu en cours, écrire le code d'une fonction qui prend en paramètre la matrice de données initiale, et retourne une copie normalisée de cette matrice. **Attention**, la dernière colonne indique la catégorie (classe du fruit, pommme ou banane: cette colonne ne doit évidemment pas être prise en compte dans les normalisations.\n",
    "\n",
    "On donne la première normalisation (MinMax), pour aider la prise en main des fonctionnalités pandas:"
   ]
  },
  {
   "cell_type": "code",
   "execution_count": 1,
   "metadata": {},
   "outputs": [],
   "source": [
    "# X est un dataframe\n",
    "def normaMinMax(X):\n",
    "    Xn = X.copy()\n",
    "    Xn.drop(columns=\"Fruit\") # pour ne pas tenir compte de cette information\n",
    "    nbl, nbc = Xn.shape\n",
    "    for i in range(nbl):\n",
    "        for j in range(nbc):\n",
    "            # comprendre ces lignes\n",
    "            Xn.iloc[i,j] = ( X.iloc[i,j] - X.iloc[:,j].min() ) / (X.iloc[:,j].max() - X.iloc[:,j].min())\n",
    "    Xn[\"Fruit\"] = X[\"Fruit\"]\n",
    "    return Xn"
   ]
  },
  {
   "cell_type": "code",
   "execution_count": 3,
   "metadata": {},
   "outputs": [],
   "source": [
    "# A vous\n",
    "\n",
    "def normaMean(X):\n",
    "    return None\n",
    "\n",
    "def normaStandard(X):\n",
    "    return None\n",
    "\n",
    "def normaProjBall(X):\n",
    "    return None"
   ]
  },
  {
   "cell_type": "markdown",
   "metadata": {},
   "source": [
    "**Question.** Pour chaque type de normalisation ci-avant, produire le nuage de points ainsi normalisé."
   ]
  },
  {
   "cell_type": "code",
   "execution_count": null,
   "metadata": {},
   "outputs": [],
   "source": [
    "# A vous"
   ]
  },
  {
   "cell_type": "markdown",
   "metadata": {},
   "source": [
    "Qu'est-ce qui change d'un graphique à l'autre ? Commenter sur l'effet de chacune de ces normalisations (respect des variance, de la dispersion, de la topologie, etc.). "
   ]
  },
  {
   "cell_type": "markdown",
   "metadata": {},
   "source": [
    "## 4. sklearn et Pandas fonctionnent ensemble (pour information)"
   ]
  },
  {
   "cell_type": "markdown",
   "metadata": {},
   "source": [
    "En réalité, les quelques lignes de code données en cours utilisent la librairie pandas, compatible avec numpy. Pandas est un outil de référence en science des données, et doit être connu en sciences des données. \n",
    "Nous allons voir rapidement ici, comment passer de l'un à l'autre.\n",
    "\n",
    "Un DataFrame pandas est la structure de base pour stocker tout ce qui est nécessaire dans un jeu de données. La différence majeure avec un jeu de données sklearn est que target et features de sklearn sont toutes des séries dans pandas (des colonnes, des variables). Cela provient du fait que pandas est plus issu de la science statistique des données que par l'apprentissage automatique. A part cela, ces structures utilisent largement les structures classes/objets et dictionnaires.\n",
    "\n",
    "Voyons comment passer d'un jeu de données sklearn à un jeu de données pandas."
   ]
  },
  {
   "cell_type": "code",
   "execution_count": null,
   "metadata": {},
   "outputs": [],
   "source": [
    "import pandas as pd\n",
    "irisData = load_iris()\n",
    "irisdf = pd.DataFrame(data = np.c_[irisData['data'], irisData['target']],\n",
    "                      columns = irisData['feature_names'] + ['target'])\n",
    "irisdf"
   ]
  },
  {
   "cell_type": "markdown",
   "metadata": {},
   "source": [
    "La conversion inverse est plus délicate, car nous devons identifier et spécifier la target d'un dataset sklearn."
   ]
  },
  {
   "cell_type": "code",
   "execution_count": null,
   "metadata": {},
   "outputs": [],
   "source": [
    "# A vous si curieux"
   ]
  },
  {
   "cell_type": "markdown",
   "metadata": {
    "id": "WXkhXIZCl8YW"
   },
   "source": [
    "## 5. ACP (rapport à rendre)\n",
    "\n",
    "Le rapport en pdf doit être court (max 2 pages), avec le code en annexe dans un fichier .py. Le raport doit contenir des extraits de graphiques (voire de code si jugé nécessaire), les réponses aux questions et des conclusions qui démontrent que vous avez compris les résultats obtenus.\n",
    "\n",
    "Nous allons maintenant nous intéresser à la méthode ACP pour la réduction de dimension et la visualisation. Pour cela, nous allons utiliser le jeu de données de chiffrs manuscriptes `digits`.\n",
    "\n",
    " ![img](https://www.tensorflow.org/images/MNIST.png)"
   ]
  },
  {
   "cell_type": "markdown",
   "metadata": {
    "id": "KlbXp2fcrDUc"
   },
   "source": [
    "Le jeu de données `digits` est aussi disponible dans scikit-learn. Téléchargez le jeu de données `digits`.\n",
    "\n"
   ]
  },
  {
   "cell_type": "code",
   "execution_count": null,
   "metadata": {
    "id": "3Uy4ii_kl_uB"
   },
   "outputs": [],
   "source": [
    "from sklearn.datasets import load_digits\n",
    "digits = load_digits()\n"
   ]
  },
  {
   "cell_type": "markdown",
   "metadata": {
    "id": "0eg7c94Ms7iY"
   },
   "source": [
    "Affichez la dimension du jeu de données."
   ]
  },
  {
   "cell_type": "code",
   "execution_count": null,
   "metadata": {
    "id": "aKN8PZbutDZZ"
   },
   "outputs": [],
   "source": [
    "digits.data.shape"
   ]
  },
  {
   "cell_type": "markdown",
   "metadata": {
    "id": "1Rd34e16tKHV"
   },
   "source": [
    "Le jeu de données contient 1797 données. Chaque donnée est un vecteur de 64 valeurs. Ces valeurs correspondent aux pixels d'une image de taille $8 \\times 8$. Affichons quelques données."
   ]
  },
  {
   "cell_type": "code",
   "execution_count": null,
   "metadata": {
    "id": "ay3Ojdf1uFBv"
   },
   "outputs": [],
   "source": [
    "import matplotlib.pyplot as plt\n",
    "from itertools import product\n",
    "\n",
    "images = digits.images.astype(np.int_)\n",
    "print(images.shape)\n",
    "\n",
    "n_rows = 8\n",
    "n_cols = 8\n",
    "\n",
    "fig, ax = plt.subplots(nrows=n_rows, ncols=n_cols, figsize=(10, 10))\n",
    "for i, j in product(range(n_rows), range(n_cols)):\n",
    "    k = n_cols * i + j\n",
    "    image = images[k,0:8,0:8]\n",
    "    ax[i, j].imshow(image, cmap='binary', interpolation='none')\n",
    "    ax[i, j].axis('off')\n",
    "\n",
    "plt.show()\n",
    "plt.close()\n"
   ]
  },
  {
   "cell_type": "markdown",
   "metadata": {
    "id": "y5hV_XyuyKIi"
   },
   "source": [
    "Nous allons maintenant projeter les données dans un espace dans un espace de plus petite dimension utilisant l'ACP. Nous pouvons par exemple les projeter dans un espace de dimension 2. C'est à dire que nous allons transformer chaque donnée de dimension 64 en une donnée de dimension 2. \n",
    "\n",
    "Il est important de se familiariser avec cette fonction fit_transform (aller voir la doc, demander au prof, etc.)"
   ]
  },
  {
   "cell_type": "code",
   "execution_count": null,
   "metadata": {
    "id": "iE5JqZzTynhr"
   },
   "outputs": [],
   "source": [
    "from sklearn import decomposition\n",
    "pca = decomposition.PCA(2)  # projection dans espace à deux axes (deux dimensions)\n",
    "donnees_projetes = pca.fit_transform(digits.data)\n",
    "print(digits.data.shape)\n",
    "print(donnees_projetes.shape)"
   ]
  },
  {
   "cell_type": "markdown",
   "metadata": {
    "id": "h0EIsyEUzQJq"
   },
   "source": [
    "Nous pouvons donc afficher les données projetées dans un graphique 2D."
   ]
  },
  {
   "cell_type": "code",
   "execution_count": null,
   "metadata": {
    "id": "YC0L1auwzbvV"
   },
   "outputs": [],
   "source": [
    "plt.figure(figsize=(10, 6))\n",
    "plt.scatter(donnees_projetes[:, 0], donnees_projetes[:, 1], c=digits.target, edgecolor='none', alpha=0.5,\n",
    "            cmap=plt.cm.get_cmap('nipy_spectral', 10))\n",
    "plt.xlabel('composante 1')\n",
    "plt.ylabel('composante 2')\n",
    "plt.colorbar();"
   ]
  },
  {
   "cell_type": "markdown",
   "metadata": {
    "id": "jyBus-8k1HFS"
   },
   "source": [
    "Analyser librement le résultat obtenu au regard d'une tâche de classification. Par exemple, est-il possible d'identifier les frontières entre les 10 classes de chiffres ? Quelles sont -- si le graphique est lisible -- les plus grosses confusions entre chiffres ?"
   ]
  },
  {
   "cell_type": "markdown",
   "metadata": {},
   "source": [
    "Refaire cette ACP mais en ne conservant les 3 premières composantes principales, et visualiser la transformation des données dans le nouvel espace obtenu. Commenter au regard de l'espace 2D précédent."
   ]
  },
  {
   "cell_type": "code",
   "execution_count": null,
   "metadata": {},
   "outputs": [],
   "source": [
    "# a vous"
   ]
  },
  {
   "cell_type": "markdown",
   "metadata": {},
   "source": [
    "## 6. Données manquantes (rapport à rendre)\n",
    "\n",
    "Le rapport en pdf doit être court (max 2 pages), avec le code en annexe dans un fichier .py. Le raport doit contenir des extraits de graphiques (voire de code si jugé nécessaire), les réponses aux questions et des conclusions qui démontrent que vous avez compris les résultats obtenus."
   ]
  },
  {
   "cell_type": "markdown",
   "metadata": {},
   "source": [
    "Ci-après, nous modifions le jeu de données digits en éliminant de façon aléatoire des valeurs de colonnes pour certaines valeurs de colonnes dans certains exemples. Cette élimination revient à changer la valeur concernée vers la valeur \"Not a Number\" (`math.nan`). \n",
    "\n",
    "Nous créons trois versions du jeu avec données manquantes pour tester 3 méthodes. Comprendre le code ci-dessous."
   ]
  },
  {
   "cell_type": "code",
   "execution_count": 8,
   "metadata": {},
   "outputs": [],
   "source": [
    "import numpy as np\n",
    "from sklearn.datasets import load_digits\n",
    "import random\n",
    "import math\n",
    "digits = load_digits()\n",
    "miss_digits = load_digits()\n",
    "nbmissingvalues = random.randint(1000,2000)\n",
    "for imissingvalue in range(nbmissingvalues):\n",
    "    lig = random.randint(0,1763)\n",
    "    col = random.randint(0,63)\n",
    "    miss_digits.data[lig,col] = math.nan\n",
    "mdd1 = miss_digits.data.copy() # pour tester methode 1\n",
    "mdd2 = miss_digits.data.copy() # pour tester methode 2\n",
    "mdd3 = miss_digits.data.copy() # pour tester methode 3"
   ]
  },
  {
   "cell_type": "markdown",
   "metadata": {},
   "source": [
    "Combien de valeurs sont manquantes globalement ? Combien de valeurs sont manquantes, colonne par colonne~? \n",
    "\n",
    "Il est conseillé d'écrire ici deux fonctions pour répondre à ces questions, chacune prenant en paramètre la matrice des données, car elles pourront être réutilisées par la suite pour vérifier que les valeurs d'une matrice ont été complétées."
   ]
  },
  {
   "cell_type": "code",
   "execution_count": null,
   "metadata": {},
   "outputs": [],
   "source": [
    "# a vous"
   ]
  },
  {
   "cell_type": "markdown",
   "metadata": {},
   "source": [
    "On veut maintenant comparer trois méthodes pour compléter ces valeurs manquantes:\n",
    "\n",
    "1. Complétion stationnaire (valeur la plus fréquente pour cette colonne)\n",
    "2. Complétion par combinaison linéaire (moyenne des valeurs de cette colonne pour la classe de l'exemple concerné)\n",
    "3. Complétion par l'algorithme des $k$ plus proches voisins\n",
    "\n",
    "Pour mesurer la qualité de chaque méthode, nous calculons le score d'écart moyen au carré $e_m$ pour chaque méthode $m$. Pour chaque ligne $i$ et colonne $j$, soit $\\acute{x_{i,j}}$ la valeur imputée par $m$  à la variable $x_{i,j}$ qui était manquante. Alors nous avons $$e_m = \\sum_{i,j} (x_{i,j}-\\acute{x_{i,j}})^2$$\n",
    "Plus $e_m$ est petit, meilleure est la méthode $m$.\n",
    "\n",
    "(Notons que dans le cas de cet exercice, nous avons dans `digits` les vraies valeurs qui manquent dans `miss_digits`, mais en général nous ne pouvons pas puisque les valeurs manquent. Ici, l'objectif est de comparer la qualité des méthodes dans ce cas de données. Nous verrons dans d'autres TPs comment choisir la meilleure méthode dans le cas général).\n",
    "\n",
    "L'objectif de cet exercice est de réaliser ces trois méthodes, soit en les codant, soit en récupérant ce qui existe dans `sklearn` ou dans `pandas` (mais alors il faut être capable de lire la documentation). \n",
    "\n",
    "Indiquer le(s) programme(s) permettant de compléter les valeurs manquantes selon les trois méthodes ci-dessus, et les ordonner de la meilleure à la moins bonne. "
   ]
  },
  {
   "cell_type": "code",
   "execution_count": null,
   "metadata": {},
   "outputs": [],
   "source": [
    "# a vous"
   ]
  }
 ],
 "metadata": {
  "colab": {
   "collapsed_sections": [],
   "name": "TP1_ISD.ipynb",
   "provenance": []
  },
  "kernelspec": {
   "display_name": "Python 3",
   "language": "python",
   "name": "python3"
  },
  "language_info": {
   "codemirror_mode": {
    "name": "ipython",
    "version": 3
   },
   "file_extension": ".py",
   "mimetype": "text/x-python",
   "name": "python",
   "nbconvert_exporter": "python",
   "pygments_lexer": "ipython3",
   "version": "3.8.8"
  }
 },
 "nbformat": 4,
 "nbformat_minor": 1
}
