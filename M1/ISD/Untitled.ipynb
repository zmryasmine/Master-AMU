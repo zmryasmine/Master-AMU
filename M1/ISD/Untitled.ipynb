{
 "cells": [
  {
   "cell_type": "code",
   "execution_count": 11,
   "id": "c195e66b",
   "metadata": {},
   "outputs": [],
   "source": [
    "import pandas as pd\n",
    "import matplotlib.pyplot as plt\n",
    "import numpy as np\n",
    "import time\n",
    "from sklearn.model_selection import train_test_split\n",
    "from sklearn.cluster import KMeans\n",
    "from sklearn.metrics import davies_bouldin_score, silhouette_score, adjusted_rand_score\n",
    "from sklearn.mixture import GaussianMixture\n",
    "from sklearn.preprocessing import StandardScaler"
   ]
  },
  {
   "cell_type": "code",
   "execution_count": 12,
   "id": "06002300",
   "metadata": {},
   "outputs": [],
   "source": [
    "data = pd.read_csv(\"unpopular_songs_full.csv\")"
   ]
  },
  {
   "cell_type": "code",
   "execution_count": 13,
   "id": "d817fd6e",
   "metadata": {},
   "outputs": [
    {
     "data": {
      "text/html": [
       "<div>\n",
       "<style scoped>\n",
       "    .dataframe tbody tr th:only-of-type {\n",
       "        vertical-align: middle;\n",
       "    }\n",
       "\n",
       "    .dataframe tbody tr th {\n",
       "        vertical-align: top;\n",
       "    }\n",
       "\n",
       "    .dataframe thead th {\n",
       "        text-align: right;\n",
       "    }\n",
       "</style>\n",
       "<table border=\"1\" class=\"dataframe\">\n",
       "  <thead>\n",
       "    <tr style=\"text-align: right;\">\n",
       "      <th></th>\n",
       "      <th>danceability</th>\n",
       "      <th>loudness</th>\n",
       "      <th>duration_ms</th>\n",
       "      <th>instrumentalness</th>\n",
       "      <th>valence</th>\n",
       "      <th>acousticness</th>\n",
       "    </tr>\n",
       "  </thead>\n",
       "  <tbody>\n",
       "    <tr>\n",
       "      <th>0</th>\n",
       "      <td>0.722</td>\n",
       "      <td>-8.203</td>\n",
       "      <td>220549</td>\n",
       "      <td>0.0000</td>\n",
       "      <td>0.9270</td>\n",
       "      <td>0.67000</td>\n",
       "    </tr>\n",
       "    <tr>\n",
       "      <th>1</th>\n",
       "      <td>0.955</td>\n",
       "      <td>-11.392</td>\n",
       "      <td>149543</td>\n",
       "      <td>0.0595</td>\n",
       "      <td>0.0934</td>\n",
       "      <td>0.00480</td>\n",
       "    </tr>\n",
       "    <tr>\n",
       "      <th>2</th>\n",
       "      <td>0.753</td>\n",
       "      <td>-11.799</td>\n",
       "      <td>130019</td>\n",
       "      <td>0.0000</td>\n",
       "      <td>0.6000</td>\n",
       "      <td>0.57300</td>\n",
       "    </tr>\n",
       "    <tr>\n",
       "      <th>3</th>\n",
       "      <td>0.650</td>\n",
       "      <td>-10.818</td>\n",
       "      <td>116193</td>\n",
       "      <td>0.0000</td>\n",
       "      <td>0.5810</td>\n",
       "      <td>0.86500</td>\n",
       "    </tr>\n",
       "    <tr>\n",
       "      <th>4</th>\n",
       "      <td>0.690</td>\n",
       "      <td>-15.624</td>\n",
       "      <td>111827</td>\n",
       "      <td>0.0000</td>\n",
       "      <td>0.1050</td>\n",
       "      <td>0.76400</td>\n",
       "    </tr>\n",
       "    <tr>\n",
       "      <th>...</th>\n",
       "      <td>...</td>\n",
       "      <td>...</td>\n",
       "      <td>...</td>\n",
       "      <td>...</td>\n",
       "      <td>...</td>\n",
       "      <td>...</td>\n",
       "    </tr>\n",
       "    <tr>\n",
       "      <th>4068</th>\n",
       "      <td>0.862</td>\n",
       "      <td>-9.364</td>\n",
       "      <td>139442</td>\n",
       "      <td>0.0000</td>\n",
       "      <td>0.3850</td>\n",
       "      <td>0.01460</td>\n",
       "    </tr>\n",
       "    <tr>\n",
       "      <th>4069</th>\n",
       "      <td>0.686</td>\n",
       "      <td>-10.253</td>\n",
       "      <td>97440</td>\n",
       "      <td>0.0000</td>\n",
       "      <td>0.4020</td>\n",
       "      <td>0.01010</td>\n",
       "    </tr>\n",
       "    <tr>\n",
       "      <th>4070</th>\n",
       "      <td>0.725</td>\n",
       "      <td>-13.018</td>\n",
       "      <td>91742</td>\n",
       "      <td>0.0000</td>\n",
       "      <td>0.1390</td>\n",
       "      <td>0.00189</td>\n",
       "    </tr>\n",
       "    <tr>\n",
       "      <th>4071</th>\n",
       "      <td>0.763</td>\n",
       "      <td>-8.889</td>\n",
       "      <td>113868</td>\n",
       "      <td>0.0000</td>\n",
       "      <td>0.3020</td>\n",
       "      <td>0.00531</td>\n",
       "    </tr>\n",
       "    <tr>\n",
       "      <th>4072</th>\n",
       "      <td>0.724</td>\n",
       "      <td>-10.324</td>\n",
       "      <td>186240</td>\n",
       "      <td>0.0000</td>\n",
       "      <td>0.5660</td>\n",
       "      <td>0.06630</td>\n",
       "    </tr>\n",
       "  </tbody>\n",
       "</table>\n",
       "<p>4073 rows × 6 columns</p>\n",
       "</div>"
      ],
      "text/plain": [
       "      danceability  loudness  duration_ms  instrumentalness  valence  \\\n",
       "0            0.722    -8.203       220549            0.0000   0.9270   \n",
       "1            0.955   -11.392       149543            0.0595   0.0934   \n",
       "2            0.753   -11.799       130019            0.0000   0.6000   \n",
       "3            0.650   -10.818       116193            0.0000   0.5810   \n",
       "4            0.690   -15.624       111827            0.0000   0.1050   \n",
       "...            ...       ...          ...               ...      ...   \n",
       "4068         0.862    -9.364       139442            0.0000   0.3850   \n",
       "4069         0.686   -10.253        97440            0.0000   0.4020   \n",
       "4070         0.725   -13.018        91742            0.0000   0.1390   \n",
       "4071         0.763    -8.889       113868            0.0000   0.3020   \n",
       "4072         0.724   -10.324       186240            0.0000   0.5660   \n",
       "\n",
       "      acousticness  \n",
       "0          0.67000  \n",
       "1          0.00480  \n",
       "2          0.57300  \n",
       "3          0.86500  \n",
       "4          0.76400  \n",
       "...            ...  \n",
       "4068       0.01460  \n",
       "4069       0.01010  \n",
       "4070       0.00189  \n",
       "4071       0.00531  \n",
       "4072       0.06630  \n",
       "\n",
       "[4073 rows x 6 columns]"
      ]
     },
     "execution_count": 13,
     "metadata": {},
     "output_type": "execute_result"
    }
   ],
   "source": [
    "columns = ['danceability', 'loudness', 'duration_ms', 'instrumentalness','valence', 'acousticness']\n",
    "df = data[columns]\n",
    "df"
   ]
  },
  {
   "cell_type": "code",
   "execution_count": 4,
   "id": "f70e8e6d",
   "metadata": {},
   "outputs": [
    {
     "data": {
      "text/plain": [
       "array([[ 0.70212452,  0.43970598,  0.09349236, -0.57343199,  1.67698269,\n",
       "         1.02426181],\n",
       "       [ 1.89545935, -0.08463916, -0.52910405, -0.40250266, -1.37236672,\n",
       "        -0.96331055],\n",
       "       [ 0.86089439, -0.15155935, -0.70029483, -0.57343199,  0.48080076,\n",
       "         0.73443241],\n",
       "       ...,\n",
       "       [ 0.71748935, -0.35199106, -1.03591608, -0.57343199, -1.2055597 ,\n",
       "        -0.97200543],\n",
       "       [ 0.91211048,  0.32691176, -0.84191039, -0.57343199, -0.60929776,\n",
       "        -0.9617867 ],\n",
       "       [ 0.71236774,  0.09096467, -0.20733658, -0.57343199,  0.3564271 ,\n",
       "        -0.77955273]])"
      ]
     },
     "execution_count": 4,
     "metadata": {},
     "output_type": "execute_result"
    }
   ],
   "source": [
    "scaler = StandardScaler()\n",
    "df = scaler.fit_transform(df)\n",
    "df"
   ]
  },
  {
   "cell_type": "code",
   "execution_count": null,
   "id": "41cbd9ba",
   "metadata": {},
   "outputs": [],
   "source": [
    "def davies_bouldin(X, labels):\n",
    "    clusters = np.unique(labels)\n",
    "    k = len(unique_labels)\n",
    "    centres = np.array([X[labels == i].mean(axis=0) for i in clusters])\n",
    "\n",
    "    cluster_distances = np.zeros((k, k))\n",
    "\n",
    "    for i in range(k):\n",
    "        for j in range(k):\n",
    "            if i != j:\n",
    "                distance = np.linalg.norm(centres[i] - centres[j])\n",
    "                cluster_distances[i, j] = distance\n",
    "\n",
    "    score = np.zeros(k)\n",
    "\n",
    "    for i in range(k):\n",
    "        max_diameters = 0\n",
    "        for j in range(k):\n",
    "            if i != j:\n",
    "                diameter = np.max([np.linalg.norm(X[labels == i] - centres[i]), np.linalg.norm(X[labels == j] - centres[j])])\n",
    "                if diameter > max_diameters:\n",
    "                    max_diameters = diameter\n",
    "\n",
    "        score[i] = max_diameters / cluster_distances[i, np.argmax(np.delete(cluster_distances[i, :], i))]\n",
    "\n",
    "    return np.mean(score)"
   ]
  },
  {
   "cell_type": "code",
   "execution_count": 6,
   "id": "793017bb",
   "metadata": {},
   "outputs": [
    {
     "name": "stdout",
     "output_type": "stream",
     "text": [
      "Itération : 1\n"
     ]
    },
    {
     "name": "stderr",
     "output_type": "stream",
     "text": [
      "C:\\ProgramData\\anaconda3\\Lib\\site-packages\\sklearn\\cluster\\_kmeans.py:1412: FutureWarning: The default value of `n_init` will change from 10 to 'auto' in 1.4. Set the value of `n_init` explicitly to suppress the warning\n",
      "  super()._check_params_vs_input(X, default_n_init=10)\n"
     ]
    },
    {
     "name": "stdout",
     "output_type": "stream",
     "text": [
      "Scores sur le jeu d'apprentissage (DB, Silhouette, Rand Index): 1.2127926975479368 0.22016512761155943 -0.0026907572055941504\n",
      "Scores sur le jeu de test (DB, Silhouette, Rand Index) 1.2188953575913835 0.21871056814406822 -0.0021354254183962415\n",
      "Itération : 2\n"
     ]
    },
    {
     "name": "stderr",
     "output_type": "stream",
     "text": [
      "C:\\ProgramData\\anaconda3\\Lib\\site-packages\\sklearn\\cluster\\_kmeans.py:1412: FutureWarning: The default value of `n_init` will change from 10 to 'auto' in 1.4. Set the value of `n_init` explicitly to suppress the warning\n",
      "  super()._check_params_vs_input(X, default_n_init=10)\n"
     ]
    },
    {
     "name": "stdout",
     "output_type": "stream",
     "text": [
      "Scores sur le jeu d'apprentissage (DB, Silhouette, Rand Index): 1.2299962095280348 0.2213900241076404 0.0007966160005763929\n",
      "Scores sur le jeu de test (DB, Silhouette, Rand Index) 1.2710257486489698 0.21726760660558717 -0.0024185087271262444\n",
      "Itération : 3\n"
     ]
    },
    {
     "name": "stderr",
     "output_type": "stream",
     "text": [
      "C:\\ProgramData\\anaconda3\\Lib\\site-packages\\sklearn\\cluster\\_kmeans.py:1412: FutureWarning: The default value of `n_init` will change from 10 to 'auto' in 1.4. Set the value of `n_init` explicitly to suppress the warning\n",
      "  super()._check_params_vs_input(X, default_n_init=10)\n"
     ]
    },
    {
     "name": "stdout",
     "output_type": "stream",
     "text": [
      "Scores sur le jeu d'apprentissage (DB, Silhouette, Rand Index): 1.317923415290002 0.22324820193356268 -0.003756938013779615\n",
      "Scores sur le jeu de test (DB, Silhouette, Rand Index) 1.3772412667266694 0.20636651857325508 0.0020569262892738134\n",
      "Itération : 4\n"
     ]
    },
    {
     "name": "stderr",
     "output_type": "stream",
     "text": [
      "C:\\ProgramData\\anaconda3\\Lib\\site-packages\\sklearn\\cluster\\_kmeans.py:1412: FutureWarning: The default value of `n_init` will change from 10 to 'auto' in 1.4. Set the value of `n_init` explicitly to suppress the warning\n",
      "  super()._check_params_vs_input(X, default_n_init=10)\n"
     ]
    },
    {
     "name": "stdout",
     "output_type": "stream",
     "text": [
      "Scores sur le jeu d'apprentissage (DB, Silhouette, Rand Index): 1.1769366416860723 0.22218314211341278 4.2206044003186534e-05\n",
      "Scores sur le jeu de test (DB, Silhouette, Rand Index) 1.3701811134296473 0.2047624762830889 -0.00326164913041378\n",
      "Itération : 5\n"
     ]
    },
    {
     "name": "stderr",
     "output_type": "stream",
     "text": [
      "C:\\ProgramData\\anaconda3\\Lib\\site-packages\\sklearn\\cluster\\_kmeans.py:1412: FutureWarning: The default value of `n_init` will change from 10 to 'auto' in 1.4. Set the value of `n_init` explicitly to suppress the warning\n",
      "  super()._check_params_vs_input(X, default_n_init=10)\n"
     ]
    },
    {
     "name": "stdout",
     "output_type": "stream",
     "text": [
      "Scores sur le jeu d'apprentissage (DB, Silhouette, Rand Index): 1.2257015487427574 0.22169364657748014 -0.0017416333597559258\n",
      "Scores sur le jeu de test (DB, Silhouette, Rand Index) 1.2254541904471499 0.2120182448854089 0.0011610979331291601\n",
      "Itération : 6\n"
     ]
    },
    {
     "name": "stderr",
     "output_type": "stream",
     "text": [
      "C:\\ProgramData\\anaconda3\\Lib\\site-packages\\sklearn\\cluster\\_kmeans.py:1412: FutureWarning: The default value of `n_init` will change from 10 to 'auto' in 1.4. Set the value of `n_init` explicitly to suppress the warning\n",
      "  super()._check_params_vs_input(X, default_n_init=10)\n"
     ]
    },
    {
     "name": "stdout",
     "output_type": "stream",
     "text": [
      "Scores sur le jeu d'apprentissage (DB, Silhouette, Rand Index): 1.23594029327333 0.22338787787364162 -0.0023051089847934488\n",
      "Scores sur le jeu de test (DB, Silhouette, Rand Index) 1.1986490251909967 0.2179133966034063 0.00241227661492925\n",
      "Itération : 7\n"
     ]
    },
    {
     "name": "stderr",
     "output_type": "stream",
     "text": [
      "C:\\ProgramData\\anaconda3\\Lib\\site-packages\\sklearn\\cluster\\_kmeans.py:1412: FutureWarning: The default value of `n_init` will change from 10 to 'auto' in 1.4. Set the value of `n_init` explicitly to suppress the warning\n",
      "  super()._check_params_vs_input(X, default_n_init=10)\n"
     ]
    },
    {
     "name": "stdout",
     "output_type": "stream",
     "text": [
      "Scores sur le jeu d'apprentissage (DB, Silhouette, Rand Index): 1.314815664778973 0.22160147364643493 0.0003632750284555863\n",
      "Scores sur le jeu de test (DB, Silhouette, Rand Index) 1.3882858216508303 0.2055158723689498 -0.0032090971243990784\n",
      "Itération : 8\n"
     ]
    },
    {
     "name": "stderr",
     "output_type": "stream",
     "text": [
      "C:\\ProgramData\\anaconda3\\Lib\\site-packages\\sklearn\\cluster\\_kmeans.py:1412: FutureWarning: The default value of `n_init` will change from 10 to 'auto' in 1.4. Set the value of `n_init` explicitly to suppress the warning\n",
      "  super()._check_params_vs_input(X, default_n_init=10)\n"
     ]
    },
    {
     "name": "stdout",
     "output_type": "stream",
     "text": [
      "Scores sur le jeu d'apprentissage (DB, Silhouette, Rand Index): 1.2543261398611425 0.21895345150569637 -0.0013318534471571809\n",
      "Scores sur le jeu de test (DB, Silhouette, Rand Index) 1.1857383889714048 0.22579010950984602 -0.0015992212091856992\n",
      "Itération : 9\n"
     ]
    },
    {
     "name": "stderr",
     "output_type": "stream",
     "text": [
      "C:\\ProgramData\\anaconda3\\Lib\\site-packages\\sklearn\\cluster\\_kmeans.py:1412: FutureWarning: The default value of `n_init` will change from 10 to 'auto' in 1.4. Set the value of `n_init` explicitly to suppress the warning\n",
      "  super()._check_params_vs_input(X, default_n_init=10)\n"
     ]
    },
    {
     "name": "stdout",
     "output_type": "stream",
     "text": [
      "Scores sur le jeu d'apprentissage (DB, Silhouette, Rand Index): 1.244976487193067 0.22009494080663483 -0.002880674979637682\n",
      "Scores sur le jeu de test (DB, Silhouette, Rand Index) 1.225737403234366 0.21759724845333747 0.0028850056945133066\n",
      "Itération : 10\n"
     ]
    },
    {
     "name": "stderr",
     "output_type": "stream",
     "text": [
      "C:\\ProgramData\\anaconda3\\Lib\\site-packages\\sklearn\\cluster\\_kmeans.py:1412: FutureWarning: The default value of `n_init` will change from 10 to 'auto' in 1.4. Set the value of `n_init` explicitly to suppress the warning\n",
      "  super()._check_params_vs_input(X, default_n_init=10)\n"
     ]
    },
    {
     "name": "stdout",
     "output_type": "stream",
     "text": [
      "Scores sur le jeu d'apprentissage (DB, Silhouette, Rand Index): 1.2481109426396826 0.2242901772626575 -0.00042537879451418694\n",
      "Scores sur le jeu de test (DB, Silhouette, Rand Index) 1.242302281817289 0.21321263327280535 -0.0016952975765696292\n",
      "KMeans :\n",
      "\n",
      "Moyenne des scores sur le jeu d'apprentissage (DB, Silhouette, Rand Index): 1.2461520040540999 0.22170080634387204 -0.0013930247712197026\n",
      "Moyenne des scores sur le jeu de test (DB, Silhouette, Rand Index) 1.2703510597708707 0.21391546746997533 -0.0005803892654245142\n"
     ]
    }
   ],
   "source": [
    "X = df\n",
    "y = data['popularity']\n",
    "\n",
    "scores_train = []\n",
    "silhouettes_train = []\n",
    "rand_train = []\n",
    "scores_test = []\n",
    "silhouettes_test = []\n",
    "rand_test = []\n",
    "\n",
    "for i in range(10):\n",
    "    print(\"Itération :\",i+1)\n",
    "    X_train, X_test, y_train, y_test = train_test_split(X, y, test_size=0.3, random_state=None)\n",
    "    \n",
    "    kmeans = KMeans(n_clusters=10)  \n",
    "    kmeans.fit(X_train)\n",
    "    \n",
    "    clusters = kmeans.predict(X_test)\n",
    "\n",
    "    scores_train.append( davies_bouldin_score(X_train, kmeans.labels_))\n",
    "    silhouettes_train.append(silhouette_score(X_train, kmeans.labels_))\n",
    "    rand_train.append(adjusted_rand_score(y_train, kmeans.labels_))\n",
    "    print(\"Scores sur le jeu d'apprentissage (DB, Silhouette, Rand Index):\",davies_bouldin_score(X_train, kmeans.labels_), silhouette_score(X_train, kmeans.labels_), adjusted_rand_score(y_train, kmeans.labels_))\n",
    "\n",
    "        # Étape 5 : Calculer les scores sur le jeu de test\n",
    "    scores_test.append(davies_bouldin_score(X_test, clusters))\n",
    "    silhouettes_test.append(silhouette_score(X_test, clusters))\n",
    "    rand_test.append(adjusted_rand_score(y_test, clusters))\n",
    "    print(\"Scores sur le jeu de test (DB, Silhouette, Rand Index)\", davies_bouldin_score(X_test, clusters), silhouette_score(X_test, clusters), adjusted_rand_score(y_test, clusters))\n",
    "\n",
    "\n",
    "\n",
    "print(\"KMeans :\\n\")\n",
    "print(\"Moyenne des scores sur le jeu d'apprentissage (DB, Silhouette, Rand Index):\",np.mean(scores_train), np.mean(silhouettes_train), np.mean(rand_train))\n",
    "print(\"Moyenne des scores sur le jeu de test (DB, Silhouette, Rand Index)\",np.mean(scores_test), np.mean(silhouettes_test), np.mean(rand_test))\n"
   ]
  },
  {
   "cell_type": "code",
   "execution_count": 7,
   "id": "f8912e80",
   "metadata": {},
   "outputs": [
    {
     "name": "stdout",
     "output_type": "stream",
     "text": [
      "Itération : 1\n",
      "Scores sur le jeu d'apprentissage (DB, Silhouette, Rand Index): 3.271792495501825 0.011511909171955624 0.003471727423021604\n",
      "Scores sur le jeu de test (DB, Silhouette, Rand Index) 4.11372589928917 -0.0048119305089468975 -0.017762598612460483\n",
      "Itération : 2\n",
      "Scores sur le jeu d'apprentissage (DB, Silhouette, Rand Index): 3.295385181809607 0.006488798386281572 -0.0038742929141073095\n",
      "Scores sur le jeu de test (DB, Silhouette, Rand Index) 4.210654570215031 -0.0017610013634669428 -0.010491764990232985\n",
      "Itération : 3\n",
      "Scores sur le jeu d'apprentissage (DB, Silhouette, Rand Index): 3.0843377622991994 0.041502332499324175 -0.007098302356814998\n",
      "Scores sur le jeu de test (DB, Silhouette, Rand Index) 3.8910901297299154 0.024377519418094115 -0.012882892895736674\n",
      "Itération : 4\n",
      "Scores sur le jeu d'apprentissage (DB, Silhouette, Rand Index): 3.0284514826594684 0.0023341169914713276 -0.012695531426212192\n",
      "Scores sur le jeu de test (DB, Silhouette, Rand Index) 2.9304241035777294 -0.011056774842422607 0.005095740417776143\n",
      "Itération : 5\n",
      "Scores sur le jeu d'apprentissage (DB, Silhouette, Rand Index): 3.734534011199217 0.024567566358946434 -0.005909215938486211\n",
      "Scores sur le jeu de test (DB, Silhouette, Rand Index) 3.4077292657847975 0.007429285717595151 -0.01602159145268237\n",
      "Itération : 6\n",
      "Scores sur le jeu d'apprentissage (DB, Silhouette, Rand Index): 3.373532910748029 0.03667903646197309 -0.008402358419518061\n",
      "Scores sur le jeu de test (DB, Silhouette, Rand Index) 4.444089474866882 0.013918206305582534 -0.005344563667901044\n",
      "Itération : 7\n",
      "Scores sur le jeu d'apprentissage (DB, Silhouette, Rand Index): 3.3851296077771926 0.013792338159462984 -0.009360121630048937\n",
      "Scores sur le jeu de test (DB, Silhouette, Rand Index) 3.602197767061949 0.0014445699168621916 -0.002996477888435108\n",
      "Itération : 8\n",
      "Scores sur le jeu d'apprentissage (DB, Silhouette, Rand Index): 3.115652681900415 -0.018950599573780886 -0.008709797768217852\n",
      "Scores sur le jeu de test (DB, Silhouette, Rand Index) 3.6527091799062097 -0.01813964441228254 -0.009263322989855778\n",
      "Itération : 9\n",
      "Scores sur le jeu d'apprentissage (DB, Silhouette, Rand Index): 2.2552072986861353 -0.025875017681221132 -0.007121635191240952\n",
      "Scores sur le jeu de test (DB, Silhouette, Rand Index) 2.7063620541088054 -0.06788514481573096 -0.007988719019338888\n",
      "Itération : 10\n",
      "Scores sur le jeu d'apprentissage (DB, Silhouette, Rand Index): 3.286438461964912 -0.004384626539406987 -0.0053215024972749075\n",
      "Scores sur le jeu de test (DB, Silhouette, Rand Index) 3.5377979394882413 -0.018307482122690056 -0.012536815466820964\n",
      "Gaussian Mixture :\n",
      "\n",
      "Moyenne des scores sur le jeu d'apprentissage (DB, Silhouette, Rand Index): 3.1830461894546 0.00876658542350062 -0.006502103071889982\n",
      "Moyenne des scores sur le jeu de test (DB, Silhouette, Rand Index) 3.649678038402873 -0.007479239670740602 -0.009019300656568816\n"
     ]
    }
   ],
   "source": [
    "scores_train = []\n",
    "silhouettes_train = []\n",
    "rand_train = []\n",
    "scores_test = []\n",
    "silhouettes_test = []\n",
    "rand_test = []\n",
    "\n",
    "for i in range(10):\n",
    "    print(\"Itération :\",i+1)\n",
    "    X_train, X_test, y_train, y_test = train_test_split(X, y, test_size=0.3, random_state=None)\n",
    "    \n",
    "    gmm = GaussianMixture(n_components=10)\n",
    "    gmm.fit(X_train)\n",
    "    \n",
    "    clusters = gmm.predict(X_test)\n",
    "\n",
    "    scores_train.append( davies_bouldin_score(X_train, gmm.predict(X_train)))\n",
    "    silhouettes_train.append(silhouette_score(X_train, gmm.predict(X_train)))\n",
    "    rand_train.append(adjusted_rand_score(y_train, gmm.predict(X_train)))\n",
    "    print(\"Scores sur le jeu d'apprentissage (DB, Silhouette, Rand Index):\",davies_bouldin_score(X_train, gmm.predict(X_train)), silhouette_score(X_train, gmm.predict(X_train)), adjusted_rand_score(y_train, gmm.predict(X_train)))\n",
    "\n",
    "        # Étape 5 : Calculer les scores sur le jeu de test\n",
    "    scores_test.append(davies_bouldin_score(X_test, clusters))\n",
    "    silhouettes_test.append(silhouette_score(X_test, clusters))\n",
    "    rand_test.append(adjusted_rand_score(y_test, clusters))\n",
    "    print(\"Scores sur le jeu de test (DB, Silhouette, Rand Index)\",davies_bouldin_score(X_test, clusters), silhouette_score(X_test, clusters), adjusted_rand_score(y_test, clusters))\n",
    "\n",
    "\n",
    "\n",
    "print(\"Gaussian Mixture :\\n\")\n",
    "print(\"Moyenne des scores sur le jeu d'apprentissage (DB, Silhouette, Rand Index):\",np.mean(scores_train), np.mean(silhouettes_train), np.mean(rand_train))\n",
    "print(\"Moyenne des scores sur le jeu de test (DB, Silhouette, Rand Index)\",np.mean(scores_test), np.mean(silhouettes_test), np.mean(rand_test))\n"
   ]
  },
  {
   "cell_type": "code",
   "execution_count": 8,
   "id": "c6fea88b",
   "metadata": {},
   "outputs": [
    {
     "name": "stderr",
     "output_type": "stream",
     "text": [
      "C:\\ProgramData\\anaconda3\\Lib\\site-packages\\sklearn\\cluster\\_kmeans.py:1412: FutureWarning: The default value of `n_init` will change from 10 to 'auto' in 1.4. Set the value of `n_init` explicitly to suppress the warning\n",
      "  super()._check_params_vs_input(X, default_n_init=10)\n"
     ]
    },
    {
     "name": "stdout",
     "output_type": "stream",
     "text": [
      "Rand Index entre K-Means et GMM : 0.21384797788184182\n"
     ]
    }
   ],
   "source": [
    "kmeans = KMeans(n_clusters=10)\n",
    "kmeans_clusters = kmeans.fit_predict(X)\n",
    "\n",
    "gmm = GaussianMixture(n_components=10)\n",
    "gmm_clusters = gmm.fit_predict(X)\n",
    "\n",
    "rand_index = adjusted_rand_score(kmeans_clusters, gmm_clusters)\n",
    "\n",
    "print(\"Rand Index entre K-Means et GMM :\",rand_index)\n"
   ]
  },
  {
   "cell_type": "code",
   "execution_count": 14,
   "id": "f0654a9d",
   "metadata": {
    "scrolled": true
   },
   "outputs": [
    {
     "name": "stdout",
     "output_type": "stream",
     "text": [
      "popularity        0    1   2   3   4  5  6   7   8  9\n",
      "KMeans_Cluster                                       \n",
      "0               289   91  29  15   4  4  2  14  15  1\n",
      "1               557  161  44  29  14  4  6  29  31  1\n",
      "2               232   29   5   0   2  0  0   4   3  0\n",
      "3                 4    2   0   0   0  0  0   0   0  0\n",
      "4               389  158  51  18  13  5  2  21  25  1\n",
      "5                89   35  21   2   3  4  1   1   6  0\n",
      "6               485  130  40  16   9  5  2  24  37  1\n",
      "7               238   66  13   6   5  3  1   4   2  0\n",
      "8               163  111  24   5   5  4  1   2   4  0\n",
      "9               130   53  13   2   1  1  1   0   0  0\n"
     ]
    },
    {
     "name": "stderr",
     "output_type": "stream",
     "text": [
      "C:\\Users\\user\\AppData\\Local\\Temp\\ipykernel_2020\\949699705.py:2: SettingWithCopyWarning: \n",
      "A value is trying to be set on a copy of a slice from a DataFrame.\n",
      "Try using .loc[row_indexer,col_indexer] = value instead\n",
      "\n",
      "See the caveats in the documentation: https://pandas.pydata.org/pandas-docs/stable/user_guide/indexing.html#returning-a-view-versus-a-copy\n",
      "  df['popularity']= data['popularity']\n",
      "C:\\Users\\user\\AppData\\Local\\Temp\\ipykernel_2020\\949699705.py:8: SettingWithCopyWarning: \n",
      "A value is trying to be set on a copy of a slice from a DataFrame.\n",
      "Try using .loc[row_indexer,col_indexer] = value instead\n",
      "\n",
      "See the caveats in the documentation: https://pandas.pydata.org/pandas-docs/stable/user_guide/indexing.html#returning-a-view-versus-a-copy\n",
      "  df['KMeans_Cluster'] = kmeans_clusters\n"
     ]
    }
   ],
   "source": [
    "import pandas as pd\n",
    "df['popularity']= data['popularity']\n",
    "\n",
    "# Supposons que vous avez un DataFrame 'df' contenant vos données, y compris les niveaux de popularité.\n",
    "# Supposons également que 'kmeans_clusters' contient les clusters obtenus par K-Means.\n",
    "\n",
    "# Ajouter les informations de clustering au DataFrame\n",
    "df['KMeans_Cluster'] = kmeans_clusters\n",
    "\n",
    "# Compter le nombre d'occurrences de chaque niveau de popularité dans chaque cluster\n",
    "cluster_popularity_counts = df.groupby(['KMeans_Cluster', 'popularity']).size().unstack(fill_value=0)\n",
    "\n",
    "# Afficher les résultats\n",
    "print(cluster_popularity_counts)\n"
   ]
  },
  {
   "cell_type": "code",
   "execution_count": 15,
   "id": "93250ea7",
   "metadata": {},
   "outputs": [
    {
     "name": "stdout",
     "output_type": "stream",
     "text": [
      "Rand Index : -0.0017754010995472875\n"
     ]
    }
   ],
   "source": [
    "vrai_labels = df['popularity']\n",
    "\n",
    "# Calculer le Rand Index\n",
    "rand_index = adjusted_rand_score(vrai_labels, kmeans_clusters)\n",
    "\n",
    "# Afficher le résultat\n",
    "print(f\"Rand Index : {rand_index}\")"
   ]
  },
  {
   "cell_type": "code",
   "execution_count": 25,
   "id": "bade9299",
   "metadata": {},
   "outputs": [
    {
     "ename": "ValueError",
     "evalue": "XA and XB must have the same number of columns (i.e. feature dimension.)",
     "output_type": "error",
     "traceback": [
      "\u001b[1;31m---------------------------------------------------------------------------\u001b[0m",
      "\u001b[1;31mValueError\u001b[0m                                Traceback (most recent call last)",
      "Cell \u001b[1;32mIn[25], line 2\u001b[0m\n\u001b[0;32m      1\u001b[0m \u001b[38;5;66;03m# Calculer les distances entre chaque chanson et les centres des clusters\u001b[39;00m\n\u001b[1;32m----> 2\u001b[0m distances \u001b[38;5;241m=\u001b[39m cdist(df_features, centers, metric\u001b[38;5;241m=\u001b[39m\u001b[38;5;124m'\u001b[39m\u001b[38;5;124meuclidean\u001b[39m\u001b[38;5;124m'\u001b[39m)\n\u001b[0;32m      4\u001b[0m \u001b[38;5;66;03m# Identifier les indices des chansons les plus proches de chaque centre de cluster\u001b[39;00m\n\u001b[0;32m      5\u001b[0m indices_plus_proches \u001b[38;5;241m=\u001b[39m np\u001b[38;5;241m.\u001b[39margmin(distances, axis\u001b[38;5;241m=\u001b[39m\u001b[38;5;241m0\u001b[39m)\n",
      "File \u001b[1;32mC:\\ProgramData\\anaconda3\\Lib\\site-packages\\scipy\\spatial\\distance.py:2920\u001b[0m, in \u001b[0;36mcdist\u001b[1;34m(XA, XB, metric, out, **kwargs)\u001b[0m\n\u001b[0;32m   2918\u001b[0m     \u001b[38;5;28;01mraise\u001b[39;00m \u001b[38;5;167;01mValueError\u001b[39;00m(\u001b[38;5;124m'\u001b[39m\u001b[38;5;124mXB must be a 2-dimensional array.\u001b[39m\u001b[38;5;124m'\u001b[39m)\n\u001b[0;32m   2919\u001b[0m \u001b[38;5;28;01mif\u001b[39;00m s[\u001b[38;5;241m1\u001b[39m] \u001b[38;5;241m!=\u001b[39m sB[\u001b[38;5;241m1\u001b[39m]:\n\u001b[1;32m-> 2920\u001b[0m     \u001b[38;5;28;01mraise\u001b[39;00m \u001b[38;5;167;01mValueError\u001b[39;00m(\u001b[38;5;124m'\u001b[39m\u001b[38;5;124mXA and XB must have the same number of columns \u001b[39m\u001b[38;5;124m'\u001b[39m\n\u001b[0;32m   2921\u001b[0m                      \u001b[38;5;124m'\u001b[39m\u001b[38;5;124m(i.e. feature dimension.)\u001b[39m\u001b[38;5;124m'\u001b[39m)\n\u001b[0;32m   2923\u001b[0m mA \u001b[38;5;241m=\u001b[39m s[\u001b[38;5;241m0\u001b[39m]\n\u001b[0;32m   2924\u001b[0m mB \u001b[38;5;241m=\u001b[39m sB[\u001b[38;5;241m0\u001b[39m]\n",
      "\u001b[1;31mValueError\u001b[0m: XA and XB must have the same number of columns (i.e. feature dimension.)"
     ]
    }
   ],
   "source": [
    "# Calculer les distances entre chaque chanson et les centres des clusters\n",
    "distances = cdist(df_features, centers, metric='euclidean')\n",
    "\n",
    "# Identifier les indices des chansons les plus proches de chaque centre de cluster\n",
    "indices_plus_proches = np.argmin(distances, axis=0)\n",
    "\n",
    "# Afficher les résultats\n",
    "for i, indice_chanson in enumerate(indices_plus_proches):\n",
    "    print(f\"Centre du Cluster {i + 1} - Chanson la plus proche : {data['track_name'].iloc[indice_chanson]}\")"
   ]
  },
  {
   "cell_type": "code",
   "execution_count": 19,
   "id": "7d6fce2b",
   "metadata": {},
   "outputs": [
    {
     "name": "stdout",
     "output_type": "stream",
     "text": [
      "   danceability  loudness  duration_ms  instrumentalness   valence  \\\n",
      "0      0.256809  0.070722    -0.278911         -0.531860  0.591195   \n",
      "1      0.737421  0.537575     0.068170         -0.504912  1.217662   \n",
      "2     -1.657397 -2.224911    -0.142580          1.843513 -1.425691   \n",
      "3     -0.744730 -0.284632    14.564022         -0.087089 -0.014255   \n",
      "4     -0.708322  0.628038     0.034188         -0.487832 -0.261554   \n",
      "5     -0.026978  0.052002     2.312243          0.629456 -0.086748   \n",
      "6      0.745846  0.185848    -0.332408         -0.541692 -0.456544   \n",
      "7     -1.005819 -0.738218     0.025533         -0.408644 -0.955380   \n",
      "8     -0.271800  0.132232    -0.154394          1.786636 -0.340898   \n",
      "9      0.238785 -1.307776    -0.430658          1.930702  0.064983   \n",
      "\n",
      "   acousticness  \n",
      "0      0.974694  \n",
      "1     -0.468640  \n",
      "2      1.396309  \n",
      "3      0.091524  \n",
      "4     -0.680217  \n",
      "5     -0.193029  \n",
      "6     -0.607751  \n",
      "7      1.326126  \n",
      "8     -0.736271  \n",
      "9      1.570117  \n"
     ]
    }
   ],
   "source": [
    "# Supposons que 'kmeans' est votre modèle K-Means déjà entraîné\n",
    "# et 'df_features' est votre DataFrame avec les caractéristiques utilisées pour l'entraînement\n",
    "\n",
    "# Accéder aux centroides des clusters\n",
    "centroides = kmeans.cluster_centers_\n",
    "\n",
    "# Créer un DataFrame pour les centroides pour une analyse plus facile\n",
    "df_centroides = pd.DataFrame(centroides, columns=df_features.columns)\n",
    "\n",
    "# Visualiser les valeurs des centroides\n",
    "print(df_centroides)\n"
   ]
  }
 ],
 "metadata": {
  "kernelspec": {
   "display_name": "Python 3 (ipykernel)",
   "language": "python",
   "name": "python3"
  },
  "language_info": {
   "codemirror_mode": {
    "name": "ipython",
    "version": 3
   },
   "file_extension": ".py",
   "mimetype": "text/x-python",
   "name": "python",
   "nbconvert_exporter": "python",
   "pygments_lexer": "ipython3",
   "version": "3.11.4"
  }
 },
 "nbformat": 4,
 "nbformat_minor": 5
}
